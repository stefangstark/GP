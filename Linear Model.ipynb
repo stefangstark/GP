{
 "cells": [
  {
   "cell_type": "code",
   "execution_count": 180,
   "metadata": {},
   "outputs": [],
   "source": [
    "%matplotlib inline\n",
    "import matplotlib.pyplot as plt"
   ]
  },
  {
   "cell_type": "code",
   "execution_count": 235,
   "metadata": {},
   "outputs": [],
   "source": [
    "import linear_gp as gp\n",
    "import importlib\n",
    "importlib.reload(gp)\n",
    "import numpy as np"
   ]
  },
  {
   "cell_type": "code",
   "execution_count": 260,
   "metadata": {
    "scrolled": true
   },
   "outputs": [
    {
     "name": "stdout",
     "output_type": "stream",
     "text": [
      "[[ 0.01575024]\n",
      " [ 0.00656482]]\n",
      "(array([ 0.00099024,  0.0009881 ]), matrix([[ 0.96594578, -0.25874458],\n",
      "        [ 0.25874458,  0.96594578]]))\n"
     ]
    },
    {
     "data": {
      "image/png": "[encoded data removed]",
      "text/plain": [
       "<matplotlib.figure.Figure at 0x1195056d8>"
      ]
     },
     "metadata": {},
     "output_type": "display_data"
    }
   ],
   "source": [
    "d = 2\n",
    "n = 10\n",
    "l = np.matrix(np.diag([1000, 1000]))\n",
    "model = gp.LinearGP(l * np.identity(d))\n",
    "\n",
    "w = np.matrix([1, 1]).T\n",
    "\n",
    "x = np.matrix(np.ones((d, n)))\n",
    "x[1] = np.matrix(1*np.random.randn(n))\n",
    "\n",
    "sigma = 1\n",
    "eps = sigma * np.matrix(np.random.randn(n)).T\n",
    "\n",
    "y = (x.T * w + eps)\n",
    "\n",
    "model.fit(x, y, sigma)\n",
    "def fmt(mat):\n",
    "    return np.squeeze(np.asarray(mat))\n",
    "\n",
    "viz    = np.matrix(np.ones((d, 100)))\n",
    "viz[1] = np.linspace(-2, 2, 100)\n",
    "\n",
    "plt.plot(fmt(viz[1]), fmt(viz.T * model.post_mean))\n",
    "plt.scatter(fmt(x[1]), fmt(y))\n",
    "upper = list()\n",
    "lower = list()\n",
    "for i in range(viz.shape[1]):\n",
    "    m,v = model.predict(viz[:, i])\n",
    "    m = fmt(m); v = fmt(v)\n",
    "    upper.append(m + 2*np.sqrt(v))\n",
    "    lower.append(m - 2*np.sqrt(v))\n",
    "plt.plot(fmt(viz[1]), upper)\n",
    "plt.plot(fmt(viz[1]), lower)\n",
    "print(model.post_mean)\n",
    "print(np.linalg.eig(model.post_var))"
   ]
  },
  {
   "cell_type": "code",
   "execution_count": 139,
   "metadata": {},
   "outputs": [
    {
     "data": {
      "text/plain": [
       "matrix([[  1.00000000e-05,   2.45756165e-16],\n",
       "        [  2.45756165e-16,   1.00000000e-01]])"
      ]
     },
     "execution_count": 139,
     "metadata": {},
     "output_type": "execute_result"
    }
   ],
   "source": [
    "model.post_var"
   ]
  },
  {
   "cell_type": "code",
   "execution_count": 222,
   "metadata": {},
   "outputs": [
    {
     "data": {
      "image/png": "[encoded data removed]",
      "text/plain": [
       "<matplotlib.figure.Figure at 0x11a0bab38>"
      ]
     },
     "metadata": {},
     "output_type": "display_data"
    }
   ],
   "source": [
    "from matplotlib.patches import Ellipse\n",
    "ew, ev = np.linalg.eig(model.post_var)\n",
    "angle = np.arctan(fmt(ev)[0, 0] / fmt(ev)[1, 0])\n",
    "\n",
    "fig, ax = plt.subplots()\n",
    "plt.scatter([model.post_mean[0]], [model.post_mean[1]], c='black', marker='x')\n",
    "plt.scatter([w[0]], [w[1]], c='red', marker='x')\n",
    "for i in [1, 2]:\n",
    "    e = Ellipse(fmt(model.post_mean), 2*i*ew[0], 2*i*ew[1], angle)\n",
    "    e.set_fill(False)\n",
    "    e.set_edgecolor('black')\n",
    "    e.set_clip_box(ax.bbox)\n",
    "    e.set_alpha(1)\n",
    "    ax.add_artist(e)\n",
    "    \n",
    "plt.xlim(-2,2)\n",
    "plt.ylim(-2,2)\n",
    "plt.show()\n"
   ]
  },
  {
   "cell_type": "code",
   "execution_count": null,
   "metadata": {},
   "outputs": [],
   "source": []
  }
 ],
 "metadata": {
  "kernelspec": {
   "display_name": "Python 3",
   "language": "python",
   "name": "python3"
  },
  "language_info": {
   "codemirror_mode": {
    "name": "ipython",
    "version": 3
   },
   "file_extension": ".py",
   "mimetype": "text/x-python",
   "name": "python",
   "nbconvert_exporter": "python",
   "pygments_lexer": "ipython3",
   "version": "3.6.4"
  }
 },
 "nbformat": 4,
 "nbformat_minor": 2
}
